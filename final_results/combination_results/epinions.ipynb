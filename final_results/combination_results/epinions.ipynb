{
 "cells": [
  {
   "cell_type": "code",
   "execution_count": 1,
   "metadata": {},
   "outputs": [],
   "source": [
    "import matplotlib\n",
    "import matplotlib.pyplot as plt\n",
    "%matplotlib inline\n",
    "import numpy as np\n",
    "import pandas as pd"
   ]
  },
  {
   "cell_type": "code",
   "execution_count": 2,
   "metadata": {},
   "outputs": [
    {
     "name": "stdout",
     "output_type": "stream",
     "text": [
      "                      combination       bfs        cc     cc_sv        pr  \\\n",
      "0                            Base  0.811280  0.812321  0.872700  0.903583   \n",
      "1                  Tagged_BRRIPRP  0.663788  0.676248  0.779469  0.837741   \n",
      "2                     DCPTP_BIPRP  0.751411  0.775030  0.809466  0.858434   \n",
      "3                     DCPTP_LIPRP  0.753286  0.786432  0.803785  0.851775   \n",
      "4            DCPTP_SecondChanceRP  0.679478  0.716349  0.823174  0.855948   \n",
      "5            IndirectMemory_LIPRP  0.724642  0.726088  0.789435  0.839101   \n",
      "6            IndirectMemory_BIPRP  0.719443  0.719687  0.797614  0.848575   \n",
      "7           Tagged_SecondChanceRP  0.539218  0.527175  0.823381  0.839574   \n",
      "8                    DCPT_BRRIPRP  0.734660  0.764531  0.788087  0.843210   \n",
      "9           SignaturePath_BRRIPRP  0.689066  0.683146  0.780199  0.838952   \n",
      "10   SignaturePath_SecondChanceRP  0.575377  0.563273  0.820147  0.836246   \n",
      "11                   Tagged_LIPRP  0.695747  0.691619  0.793868  0.842677   \n",
      "12            SignaturePath_LIPRP  0.731359  0.735205  0.801071  0.847711   \n",
      "13  IndirectMemory_SecondChanceRP  0.606988  0.613340  0.805258  0.827588   \n",
      "14         IndirectMemory_BRRIPRP  0.700286  0.707884  0.773697  0.833130   \n",
      "15                   Tagged_BIPRP  0.684457  0.686950  0.808087  0.858220   \n",
      "16            SignaturePath_BIPRP  0.707466  0.697688  0.805209  0.855170   \n",
      "\n",
      "        sssp  \n",
      "0   0.828615  \n",
      "1   0.769559  \n",
      "2   0.828191  \n",
      "3   0.816855  \n",
      "4   0.812603  \n",
      "5   0.814691  \n",
      "6   0.824540  \n",
      "7   0.738026  \n",
      "8   0.804644  \n",
      "9   0.775148  \n",
      "10  0.752557  \n",
      "11  0.785078  \n",
      "12  0.789116  \n",
      "13  0.808971  \n",
      "14  0.805102  \n",
      "15  0.785502  \n",
      "16  0.788143  \n"
     ]
    }
   ],
   "source": [
    "data = pd.read_csv(\"epinions.csv\")\n",
    "print(data)\n",
    "combination = data[\"combination\"]\n",
    "\n",
    "### Base\n",
    "base = data.iloc[[0]]\n",
    "base_results = [float(base['bfs']), float(base['cc']), float(base['cc_sv']), float(base['pr']), float(base['sssp'])]\n",
    "\n",
    "### BFS\n",
    "bfs = data[\"bfs\"]\n",
    "best_bfs = bfs.sort_values()\n",
    "bfs_best_four_data = list(best_bfs)[:4]\n",
    "bfs_best_four_index = list((best_bfs.index)[:4])\n",
    "\n",
    "### CC\n",
    "cc = data[\"cc\"]\n",
    "best_cc = cc.sort_values()\n",
    "cc_best_four_data = list(best_cc)[:4]\n",
    "cc_best_four_index = list((best_cc.index)[:4])\n",
    "\n",
    "### CC_SV\n",
    "cc_sv = data[\"cc_sv\"]\n",
    "best_cc_sv = cc_sv.sort_values()\n",
    "cc_sv_best_four_data = list(best_cc_sv)[:4]\n",
    "cc_sv_best_four_index = list((best_cc_sv.index)[:4])\n",
    "\n",
    "### PR\n",
    "pr = data[\"pr\"]\n",
    "best_pr = pr.sort_values()\n",
    "pr_best_four_data = list(best_pr)[:4]\n",
    "pr_best_four_index = list((best_pr.index)[:4])\n",
    "\n",
    "### SSSP\n",
    "sssp = data[\"sssp\"]\n",
    "best_sssp = sssp.sort_values()\n",
    "sssp_best_four_data = list(best_sssp)[:4]\n",
    "sssp_best_four_index = list((best_sssp.index)[:4])"
   ]
  },
  {
   "cell_type": "code",
   "execution_count": 3,
   "metadata": {},
   "outputs": [
    {
     "name": "stdout",
     "output_type": "stream",
     "text": [
      "[7, 10, 13, 1]\n",
      "Tagged_SecondChanceRP\n",
      "SignaturePath_SecondChanceRP\n",
      "IndirectMemory_SecondChanceRP\n",
      "Tagged_BRRIPRP\n",
      "\n",
      "[7, 10, 13, 1]\n",
      "Tagged_SecondChanceRP\n",
      "SignaturePath_SecondChanceRP\n",
      "IndirectMemory_SecondChanceRP\n",
      "Tagged_BRRIPRP\n",
      "\n",
      "[14, 1, 9, 8]\n",
      "IndirectMemory_BRRIPRP\n",
      "Tagged_BRRIPRP\n",
      "SignaturePath_BRRIPRP\n",
      "DCPT_BRRIPRP\n",
      "\n",
      "[13, 14, 10, 1]\n",
      "IndirectMemory_SecondChanceRP\n",
      "IndirectMemory_BRRIPRP\n",
      "SignaturePath_SecondChanceRP\n",
      "Tagged_BRRIPRP\n",
      "\n",
      "[7, 10, 1, 9]\n",
      "Tagged_SecondChanceRP\n",
      "SignaturePath_SecondChanceRP\n",
      "Tagged_BRRIPRP\n",
      "SignaturePath_BRRIPRP\n",
      "\n"
     ]
    }
   ],
   "source": [
    "print(bfs_best_four_index)\n",
    "for index in bfs_best_four_index:\n",
    "    print(combination[index])\n",
    "print()\n",
    "\n",
    "print(cc_best_four_index)\n",
    "for index in cc_best_four_index:\n",
    "    print(combination[index])\n",
    "print()\n",
    "    \n",
    "print(cc_sv_best_four_index)\n",
    "for index in cc_sv_best_four_index:\n",
    "    print(combination[index])\n",
    "print()\n",
    "\n",
    "print(pr_best_four_index)\n",
    "for index in pr_best_four_index:\n",
    "    print(combination[index])\n",
    "print()\n",
    "    \n",
    "print(sssp_best_four_index)\n",
    "for index in sssp_best_four_index:\n",
    "    print(combination[index])\n",
    "print()"
   ]
  },
  {
   "cell_type": "code",
   "execution_count": 6,
   "metadata": {},
   "outputs": [],
   "source": [
    "best_indices = [7,10,13,1]\n",
    "best_combinations = [combination[index] for index in best_indices]\n",
    "best_combinations = [\"/\".join(combination.split(\"_\")) for combination in best_combinations]\n",
    "bfs_best_four_data = [bfs[index] for index in bfs_best_four_index]\n",
    "cc_best_four_data = [cc[index] for index in cc_best_four_index]\n",
    "cc_sv_best_four_data = [cc_sv[index] for index in cc_sv_best_four_index]\n",
    "pr_best_four_data = [pr[index] for index in pr_best_four_index]\n",
    "sssp_best_four_data = [sssp[index] for index in sssp_best_four_index]"
   ]
  },
  {
   "cell_type": "code",
   "execution_count": 9,
   "metadata": {},
   "outputs": [
    {
     "data": {
      "image/png": "[encoded data removed]",
      "text/plain": [
       "<Figure size 432x288 with 1 Axes>"
      ]
     },
     "metadata": {
      "needs_background": "light"
     },
     "output_type": "display_data"
    }
   ],
   "source": [
    "# set width of bar\n",
    "barWidth = 0.1\n",
    " \n",
    "# set height of bar\n",
    "bars0 = [bfs_best_four_data[0], cc_best_four_data[0], cc_sv_best_four_data[0], pr_best_four_data[0], sssp_best_four_data[0]]\n",
    "bars1 = [bfs_best_four_data[1], cc_best_four_data[1], cc_sv_best_four_data[1], pr_best_four_data[1], sssp_best_four_data[1]]\n",
    "bars2 = [bfs_best_four_data[2], cc_best_four_data[2], cc_sv_best_four_data[2], pr_best_four_data[2], sssp_best_four_data[2]]\n",
    "bars3 = [bfs_best_four_data[3], cc_best_four_data[3], cc_sv_best_four_data[3], pr_best_four_data[3], sssp_best_four_data[3]]\n",
    "bars4 = base_results\n",
    " \n",
    "# Set position of bar on X axis\n",
    "r0 = np.arange(len(bars0))\n",
    "r1 = [x + barWidth for x in r0]\n",
    "r2 = [x + barWidth for x in r1]\n",
    "r3 = [x + barWidth for x in r2]\n",
    "r4 = [x + barWidth for x in r3]\n",
    " \n",
    "# Make the plot\n",
    "plt.bar(r0, bars0, color='black', width=barWidth, edgecolor='white', label=best_combinations[0])\n",
    "plt.bar(r1, bars1, color='#7f6d5f', width=barWidth, edgecolor='white', label=best_combinations[1])\n",
    "plt.bar(r2, bars2, color='#557f2d', width=barWidth, edgecolor='white', label=best_combinations[2])\n",
    "plt.bar(r3, bars3, color='#0900ff', width=barWidth, edgecolor='white', label=best_combinations[3])\n",
    "plt.bar(r4, bars4, color='#fff100', width=barWidth, edgecolor='white', label='Default (None/LRU)')\n",
    " \n",
    "# Add xticks on the middle of the group bars\n",
    "plt.title(\"Epinions Dataset\\n75888 nodes\\n508837 edges\")\n",
    "plt.ylabel(\"LLC Miss Rate\", fontweight='bold')\n",
    "plt.xticks([r + barWidth*2 for r in range(len(bars1))], ['BFS', 'CC', 'CC_SV', 'PR', 'SSSP'])\n",
    " \n",
    "# Create legend & Show graphic\n",
    "plt.legend(loc=(1.04,0))\n",
    "plt.show()"
   ]
  }
 ],
 "metadata": {
  "kernelspec": {
   "display_name": "Python 3",
   "language": "python",
   "name": "python3"
  },
  "language_info": {
   "codemirror_mode": {
    "name": "ipython",
    "version": 3
   },
   "file_extension": ".py",
   "mimetype": "text/x-python",
   "name": "python",
   "nbconvert_exporter": "python",
   "pygments_lexer": "ipython3",
   "version": "3.6.9"
  }
 },
 "nbformat": 4,
 "nbformat_minor": 4
}
