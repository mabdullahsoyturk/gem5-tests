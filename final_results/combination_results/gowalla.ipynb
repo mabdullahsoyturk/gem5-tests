{
 "cells": [
  {
   "cell_type": "code",
   "execution_count": 1,
   "metadata": {},
   "outputs": [],
   "source": [
    "import matplotlib\n",
    "import matplotlib.pyplot as plt\n",
    "%matplotlib inline\n",
    "import numpy as np\n",
    "import pandas as pd"
   ]
  },
  {
   "cell_type": "code",
   "execution_count": 2,
   "metadata": {},
   "outputs": [
    {
     "name": "stdout",
     "output_type": "stream",
     "text": [
      "                      combination       bfs        cc     cc_sv        pr  \\\n",
      "0                            Base  0.758880  0.886265  0.884983  0.894537   \n",
      "1                  Tagged_BRRIPRP  0.688945  0.698945  0.846165  0.852334   \n",
      "2                     DCPTP_BIPRP  0.744082  0.843273  0.855782  0.864270   \n",
      "3                     DCPTP_LIPRP  0.738283  0.849721  0.873227  0.870569   \n",
      "4            DCPTP_SecondChanceRP  0.765766  0.789087  0.855667  0.865796   \n",
      "5            IndirectMemory_LIPRP  0.729868  0.805800  0.855556  0.863567   \n",
      "6            IndirectMemory_BIPRP  0.735723  0.797712  0.848028  0.861589   \n",
      "7           Tagged_SecondChanceRP  0.651075  0.552715  0.845873  0.852300   \n",
      "8                    DCPT_BRRIPRP  0.723960  0.836957  0.849834  0.856532   \n",
      "9           SignaturePath_BRRIPRP  0.703066  0.721450  0.843434  0.852800   \n",
      "10   SignaturePath_SecondChanceRP  0.675026  0.582304  0.839478  0.843465   \n",
      "11                   Tagged_LIPRP  0.722273  0.720700  0.865326  0.869523   \n",
      "12            SignaturePath_LIPRP  0.738399  0.773648  0.867783  0.872359   \n",
      "13  IndirectMemory_SecondChanceRP  0.733543  0.675658  0.836064  0.849513   \n",
      "14         IndirectMemory_BRRIPRP  0.712257  0.790185  0.838806  0.850859   \n",
      "15                   Tagged_BIPRP  0.718235  0.705113  0.858364  0.864937   \n",
      "16            SignaturePath_BIPRP  0.732240  0.719222  0.851911  0.862462   \n",
      "\n",
      "        sssp  \n",
      "0   0.891739  \n",
      "1   0.847548  \n",
      "2   0.875834  \n",
      "3   0.869652  \n",
      "4   0.870912  \n",
      "5   0.869438  \n",
      "6   0.873900  \n",
      "7   0.830550  \n",
      "8   0.862348  \n",
      "9   0.847614  \n",
      "10  0.839220  \n",
      "11  0.859160  \n",
      "12  0.858275  \n",
      "13  0.864494  \n",
      "14  0.860297  \n",
      "15  0.861662  \n",
      "16  0.858807  \n"
     ]
    }
   ],
   "source": [
    "data = pd.read_csv(\"gowalla.csv\")\n",
    "print(data)\n",
    "combination = data[\"combination\"]\n",
    "\n",
    "### Base\n",
    "base = data.iloc[[0]]\n",
    "base_results = [float(base['bfs']), float(base['cc']), float(base['cc_sv']), float(base['pr']), float(base['sssp'])]\n",
    "\n",
    "### BFS\n",
    "bfs = data[\"bfs\"]\n",
    "best_bfs = bfs.sort_values()\n",
    "bfs_best_four_data = list(best_bfs)[:4]\n",
    "bfs_best_four_index = list((best_bfs.index)[:4])\n",
    "\n",
    "### CC\n",
    "cc = data[\"cc\"]\n",
    "best_cc = cc.sort_values()\n",
    "cc_best_four_data = list(best_cc)[:4]\n",
    "cc_best_four_index = list((best_cc.index)[:4])\n",
    "\n",
    "### CC_SV\n",
    "cc_sv = data[\"cc_sv\"]\n",
    "best_cc_sv = cc_sv.sort_values()\n",
    "cc_sv_best_four_data = list(best_cc_sv)[:4]\n",
    "cc_sv_best_four_index = list((best_cc_sv.index)[:4])\n",
    "\n",
    "### PR\n",
    "pr = data[\"pr\"]\n",
    "best_pr = pr.sort_values()\n",
    "pr_best_four_data = list(best_pr)[:4]\n",
    "pr_best_four_index = list((best_pr.index)[:4])\n",
    "\n",
    "### SSSP\n",
    "sssp = data[\"sssp\"]\n",
    "best_sssp = sssp.sort_values()\n",
    "sssp_best_four_data = list(best_sssp)[:4]\n",
    "sssp_best_four_index = list((best_sssp.index)[:4])"
   ]
  },
  {
   "cell_type": "code",
   "execution_count": 3,
   "metadata": {},
   "outputs": [
    {
     "name": "stdout",
     "output_type": "stream",
     "text": [
      "[7, 10, 1, 9]\n",
      "Tagged_SecondChanceRP\n",
      "SignaturePath_SecondChanceRP\n",
      "Tagged_BRRIPRP\n",
      "SignaturePath_BRRIPRP\n",
      "\n",
      "[7, 10, 13, 1]\n",
      "Tagged_SecondChanceRP\n",
      "SignaturePath_SecondChanceRP\n",
      "IndirectMemory_SecondChanceRP\n",
      "Tagged_BRRIPRP\n",
      "\n",
      "[13, 14, 10, 9]\n",
      "IndirectMemory_SecondChanceRP\n",
      "IndirectMemory_BRRIPRP\n",
      "SignaturePath_SecondChanceRP\n",
      "SignaturePath_BRRIPRP\n",
      "\n",
      "[10, 13, 14, 7]\n",
      "SignaturePath_SecondChanceRP\n",
      "IndirectMemory_SecondChanceRP\n",
      "IndirectMemory_BRRIPRP\n",
      "Tagged_SecondChanceRP\n",
      "\n",
      "[7, 10, 1, 9]\n",
      "Tagged_SecondChanceRP\n",
      "SignaturePath_SecondChanceRP\n",
      "Tagged_BRRIPRP\n",
      "SignaturePath_BRRIPRP\n",
      "\n"
     ]
    }
   ],
   "source": [
    "print(bfs_best_four_index)\n",
    "for index in bfs_best_four_index:\n",
    "    print(combination[index])\n",
    "print()\n",
    "\n",
    "print(cc_best_four_index)\n",
    "for index in cc_best_four_index:\n",
    "    print(combination[index])\n",
    "print()\n",
    "    \n",
    "print(cc_sv_best_four_index)\n",
    "for index in cc_sv_best_four_index:\n",
    "    print(combination[index])\n",
    "print()\n",
    "\n",
    "print(pr_best_four_index)\n",
    "for index in pr_best_four_index:\n",
    "    print(combination[index])\n",
    "print()\n",
    "    \n",
    "print(sssp_best_four_index)\n",
    "for index in sssp_best_four_index:\n",
    "    print(combination[index])\n",
    "print()"
   ]
  },
  {
   "cell_type": "code",
   "execution_count": 6,
   "metadata": {},
   "outputs": [],
   "source": [
    "best_indices = [7,10,13,9]\n",
    "best_combinations = [combination[index] for index in best_indices]\n",
    "best_combinations = [\"/\".join(combination.split(\"_\")) for combination in best_combinations]\n",
    "bfs_best_four_data = [bfs[index] for index in bfs_best_four_index]\n",
    "cc_best_four_data = [cc[index] for index in cc_best_four_index]\n",
    "cc_sv_best_four_data = [cc_sv[index] for index in cc_sv_best_four_index]\n",
    "pr_best_four_data = [pr[index] for index in pr_best_four_index]\n",
    "sssp_best_four_data = [sssp[index] for index in sssp_best_four_index]"
   ]
  },
  {
   "cell_type": "code",
   "execution_count": 10,
   "metadata": {},
   "outputs": [
    {
     "data": {
      "image/png": "[encoded data removed]",
      "text/plain": [
       "<Figure size 432x288 with 1 Axes>"
      ]
     },
     "metadata": {
      "needs_background": "light"
     },
     "output_type": "display_data"
    }
   ],
   "source": [
    "# set width of bar\n",
    "barWidth = 0.1\n",
    " \n",
    "# set height of bar\n",
    "bars0 = [bfs_best_four_data[0], cc_best_four_data[0], cc_sv_best_four_data[0], pr_best_four_data[0], sssp_best_four_data[0]]\n",
    "bars1 = [bfs_best_four_data[1], cc_best_four_data[1], cc_sv_best_four_data[1], pr_best_four_data[1], sssp_best_four_data[1]]\n",
    "bars2 = [bfs_best_four_data[2], cc_best_four_data[2], cc_sv_best_four_data[2], pr_best_four_data[2], sssp_best_four_data[2]]\n",
    "bars3 = [bfs_best_four_data[3], cc_best_four_data[3], cc_sv_best_four_data[3], pr_best_four_data[3], sssp_best_four_data[3]]\n",
    "bars4 = base_results\n",
    " \n",
    "# Set position of bar on X axis\n",
    "r0 = np.arange(len(bars0))\n",
    "r1 = [x + barWidth for x in r0]\n",
    "r2 = [x + barWidth for x in r1]\n",
    "r3 = [x + barWidth for x in r2]\n",
    "r4 = [x + barWidth for x in r3]\n",
    " \n",
    "# Make the plot\n",
    "plt.bar(r0, bars0, color='black', width=barWidth, edgecolor='white', label=best_combinations[0])\n",
    "plt.bar(r1, bars1, color='#7f6d5f', width=barWidth, edgecolor='white', label=best_combinations[1])\n",
    "plt.bar(r2, bars2, color='#557f2d', width=barWidth, edgecolor='white', label=best_combinations[2])\n",
    "plt.bar(r3, bars3, color='#0900ff', width=barWidth, edgecolor='white', label=best_combinations[3])\n",
    "plt.bar(r4, bars4, color='#fff100', width=barWidth, edgecolor='white', label='Default (None/LRU)')\n",
    " \n",
    "# Add xticks on the middle of the group bars\n",
    "plt.title(\"Gowalla Dataset\\n196591 nodes\\n1.9M edges\")\n",
    "plt.ylabel(\"LLC Miss Rate\", fontweight='bold')\n",
    "plt.xticks([r + barWidth*2 for r in range(len(bars1))], ['BFS', 'CC', 'CC_SV', 'PR', 'SSSP'])\n",
    " \n",
    "# Create legend & Show graphic\n",
    "plt.legend(loc=(1.04,0))\n",
    "plt.show()"
   ]
  }
 ],
 "metadata": {
  "kernelspec": {
   "display_name": "Python 3",
   "language": "python",
   "name": "python3"
  },
  "language_info": {
   "codemirror_mode": {
    "name": "ipython",
    "version": 3
   },
   "file_extension": ".py",
   "mimetype": "text/x-python",
   "name": "python",
   "nbconvert_exporter": "python",
   "pygments_lexer": "ipython3",
   "version": "3.6.9"
  }
 },
 "nbformat": 4,
 "nbformat_minor": 4
}
