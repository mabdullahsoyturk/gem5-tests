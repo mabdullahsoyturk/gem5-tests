{
 "cells": [
  {
   "cell_type": "code",
   "execution_count": 1,
   "metadata": {},
   "outputs": [],
   "source": [
    "import matplotlib\n",
    "import matplotlib.pyplot as plt\n",
    "%matplotlib inline\n",
    "import numpy as np\n",
    "import pandas as pd"
   ]
  },
  {
   "cell_type": "code",
   "execution_count": 2,
   "metadata": {},
   "outputs": [
    {
     "name": "stdout",
     "output_type": "stream",
     "text": [
      "       Base     BIPRP   BRRIPRP     LIPRP  SecondChance\n",
      "0  0.823534  0.795519  0.776174  0.785686      0.818140\n",
      "1  0.775584  0.763022  0.752731  0.755014      0.776020\n",
      "2  0.909676  0.880093  0.856790  0.858044      0.908522\n"
     ]
    }
   ],
   "source": [
    "combined_data = pd.read_csv(\"epinions_replacement.csv\")\n",
    "print(combined_data)"
   ]
  },
  {
   "cell_type": "code",
   "execution_count": 4,
   "metadata": {},
   "outputs": [
    {
     "data": {
      "image/png": "[encoded data removed]",
      "text/plain": [
       "<Figure size 432x288 with 1 Axes>"
      ]
     },
     "metadata": {
      "needs_background": "light"
     },
     "output_type": "display_data"
    }
   ],
   "source": [
    "# set width of bar\n",
    "barWidth = 0.1\n",
    " \n",
    "# set height of bar\n",
    "bars0 = list(combined_data['Base'])\n",
    "bars1 = list(combined_data['BIPRP'])\n",
    "bars2 = list(combined_data['BRRIPRP'])\n",
    "bars3 = list(combined_data['LIPRP'])\n",
    "bars4 = list(combined_data['SecondChance'])\n",
    " \n",
    "# Set position of bar on X axis\n",
    "r0 = np.arange(len(bars0))\n",
    "r1 = [x + barWidth for x in r0]\n",
    "r2 = [x + barWidth for x in r1]\n",
    "r3 = [x + barWidth for x in r2]\n",
    "r4 = [x + barWidth for x in r3]\n",
    " \n",
    "# Make the plot\n",
    "plt.bar(r0, bars0, color='black', width=barWidth, edgecolor='white', label='Base')\n",
    "plt.bar(r1, bars1, color='#7f6d5f', width=barWidth, edgecolor='white', label='BIPRP')\n",
    "plt.bar(r2, bars2, color='#557f2d', width=barWidth, edgecolor='white', label='BRRIPRP')\n",
    "plt.bar(r3, bars3, color='#0900ff', width=barWidth, edgecolor='white', label='LIPRP')\n",
    "plt.bar(r4, bars4, color='#fff100', width=barWidth, edgecolor='white', label='SecondChance')\n",
    " \n",
    "# Add xticks on the middle of the group bars\n",
    "plt.title(\"Epinions Dataset\\n75888 nodes\\n508837 edges\")\n",
    "plt.ylabel(\"LLC Miss Rate\", fontweight='bold')\n",
    "plt.xticks([r + barWidth*2 for r in range(len(bars1))], ['BFS', 'CC', 'PR'])\n",
    " \n",
    "# Create legend & Show graphic\n",
    "plt.legend(loc=(1.04,0))\n",
    "plt.show()"
   ]
  }
 ],
 "metadata": {
  "kernelspec": {
   "display_name": "Python 3",
   "language": "python",
   "name": "python3"
  },
  "language_info": {
   "codemirror_mode": {
    "name": "ipython",
    "version": 3
   },
   "file_extension": ".py",
   "mimetype": "text/x-python",
   "name": "python",
   "nbconvert_exporter": "python",
   "pygments_lexer": "ipython3",
   "version": "3.6.9"
  }
 },
 "nbformat": 4,
 "nbformat_minor": 4
}
